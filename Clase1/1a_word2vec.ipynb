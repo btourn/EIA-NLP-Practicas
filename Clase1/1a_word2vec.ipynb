{
  "nbformat": 4,
  "nbformat_minor": 0,
  "metadata": {
    "colab": {
      "name": "1a - word2vec.ipynb",
      "provenance": [],
      "collapsed_sections": []
    },
    "kernelspec": {
      "name": "python3",
      "display_name": "Python 3"
    },
    "language_info": {
      "name": "python"
    }
  },
  "cells": [
    {
      "cell_type": "markdown",
      "metadata": {
        "id": "Ue5hxxkdAQJg"
      },
      "source": [
        "<img src=\"https://github.com/FIUBA-Posgrado-Inteligencia-Artificial/procesamiento_lenguaje_natural/raw/main/logoFIUBA.jpg\" width=\"500\" align=\"center\">\n",
        "\n",
        "\n",
        "# Procesamiento de lenguaje natural\n",
        "## Word2vect\n"
      ]
    },
    {
      "cell_type": "code",
      "metadata": {
        "id": "kCED1hh-Ioyf"
      },
      "source": [
        "import numpy as np"
      ],
      "execution_count": 153,
      "outputs": []
    },
    {
      "cell_type": "code",
      "metadata": {
        "id": "PUbfVnzIIoMj"
      },
      "source": [
        "def cosine_similarity(a, b):\n",
        "    return np.dot(a, b) / (np.linalg.norm(a) * (np.linalg.norm(b)))"
      ],
      "execution_count": 154,
      "outputs": []
    },
    {
      "cell_type": "markdown",
      "metadata": {
        "id": "DMOa4JPSCJ29"
      },
      "source": [
        "### Datos"
      ]
    },
    {
      "cell_type": "code",
      "metadata": {
        "id": "RIO7b8GjAC17"
      },
      "source": [
        "corpus = np.array(['que dia es hoy', 'martes el dia de hoy es martes', 'martes muchas gracias'])"
      ],
      "execution_count": 155,
      "outputs": []
    },
    {
      "cell_type": "markdown",
      "metadata": {
        "id": "8WqdaTmO8P1r"
      },
      "source": [
        "Documento 1 --> que dia es hoy \\\n",
        "Documento 2 --> martes el dia de hoy es martes \\\n",
        "Documento 3 --> martes muchas gracias"
      ]
    },
    {
      "cell_type": "markdown",
      "metadata": {
        "id": "FVHxBRNzCMOS"
      },
      "source": [
        "### 1 - Obtener el vocabulario del corpus (los términos utilizados)\n",
        "- Cada documento transformarlo en una lista de términos\n",
        "- Armar un vector de términos no repetidos de todos los documentos"
      ]
    },
    {
      "cell_type": "code",
      "metadata": {
        "id": "3ZqTOZzDI7uv",
        "colab": {
          "base_uri": "https://localhost:8080/"
        },
        "outputId": "321ca6d3-b4a4-4dcc-ceee-b253c59d994b"
      },
      "source": [
        "terms = []\n",
        "documents = []\n",
        "for document in corpus:\n",
        "  word = str.split(document)\n",
        "  documents.append(word)\n",
        "  terms.extend(word) #Utilizo el método .extend() en lugar de .append() para evitar crear una lista de listas\n",
        "\n",
        "print(documents)\n",
        "print(terms)"
      ],
      "execution_count": 156,
      "outputs": [
        {
          "output_type": "stream",
          "name": "stdout",
          "text": [
            "[['que', 'dia', 'es', 'hoy'], ['martes', 'el', 'dia', 'de', 'hoy', 'es', 'martes'], ['martes', 'muchas', 'gracias']]\n",
            "['que', 'dia', 'es', 'hoy', 'martes', 'el', 'dia', 'de', 'hoy', 'es', 'martes', 'martes', 'muchas', 'gracias']\n"
          ]
        }
      ]
    },
    {
      "cell_type": "code",
      "source": [
        "vocabulary = set(terms)\n",
        "print(vocabulary)"
      ],
      "metadata": {
        "colab": {
          "base_uri": "https://localhost:8080/"
        },
        "id": "-n1FF19pTpfF",
        "outputId": "8b2ba59f-a5a7-4e79-bcc4-5250b69d73a6"
      },
      "execution_count": 157,
      "outputs": [
        {
          "output_type": "stream",
          "name": "stdout",
          "text": [
            "{'que', 'martes', 'de', 'el', 'gracias', 'dia', 'muchas', 'es', 'hoy'}\n"
          ]
        }
      ]
    },
    {
      "cell_type": "markdown",
      "metadata": {
        "id": "RUhH983FI7It"
      },
      "source": [
        "### 2- OneHot encoding\n",
        "Dada una lista de textos, devolver una matriz con la representación oneHotEncoding de estos"
      ]
    },
    {
      "cell_type": "code",
      "metadata": {
        "id": "Os0AAQo6I6Z1",
        "colab": {
          "base_uri": "https://localhost:8080/"
        },
        "outputId": "7b263e17-0475-4c42-be4e-93d6470bc81e"
      },
      "source": [
        "ohe = np.zeros((len(corpus), len(vocabulary)))\n",
        "for i, document in enumerate(corpus):\n",
        "  for j, term in enumerate(vocabulary):\n",
        "    if term in document:\n",
        "      ohe[i, j] = 1\n",
        "\n",
        "print(ohe)"
      ],
      "execution_count": 158,
      "outputs": [
        {
          "output_type": "stream",
          "name": "stdout",
          "text": [
            "[[1. 0. 0. 0. 0. 1. 0. 1. 1.]\n",
            " [0. 1. 1. 1. 0. 1. 0. 1. 1.]\n",
            " [0. 1. 0. 0. 1. 0. 1. 1. 0.]]\n"
          ]
        }
      ]
    },
    {
      "cell_type": "markdown",
      "metadata": {
        "id": "IIyWGmCpJVQL"
      },
      "source": [
        "### 3- Vectores de frecuencia\n",
        "Dada una lista de textos, devolver una matriz con la representación de frecuencia de estos"
      ]
    },
    {
      "cell_type": "code",
      "metadata": {
        "id": "yqij_7eHJbUi",
        "colab": {
          "base_uri": "https://localhost:8080/"
        },
        "outputId": "8306ccde-15c4-43e9-820f-7fadc42a66f5"
      },
      "source": [
        "tf = np.zeros((len(corpus), len(vocabulary)))\n",
        "for i, document in enumerate(corpus):\n",
        "  for j, term in enumerate(vocabulary):\n",
        "    if term in document:\n",
        "      tf[i, j] = document.count(term)\n",
        "\n",
        "print(tf)"
      ],
      "execution_count": 159,
      "outputs": [
        {
          "output_type": "stream",
          "name": "stdout",
          "text": [
            "[[1. 0. 0. 0. 0. 1. 0. 1. 1.]\n",
            " [0. 2. 1. 1. 0. 1. 0. 3. 1.]\n",
            " [0. 1. 0. 0. 1. 0. 1. 1. 0.]]\n"
          ]
        }
      ]
    },
    {
      "cell_type": "markdown",
      "metadata": {
        "id": "z_Ot8HvWJcBu"
      },
      "source": [
        "### 4- TF-IDF\n",
        "Dada una lista de textos, devolver una matriz con la representacion TFIDF"
      ]
    },
    {
      "cell_type": "code",
      "metadata": {
        "id": "waG_oWtpJjRw",
        "colab": {
          "base_uri": "https://localhost:8080/"
        },
        "outputId": "3d617537-d07e-44d9-f9d9-c072147aed92"
      },
      "source": [
        "sum_ohe_axis0 = np.sum(ohe, axis=0)\n",
        "idf = np.log(len(corpus)/sum_ohe_axis0)\n",
        "print(idf)"
      ],
      "execution_count": 160,
      "outputs": [
        {
          "output_type": "stream",
          "name": "stdout",
          "text": [
            "[1.09861229 0.40546511 1.09861229 1.09861229 1.09861229 0.40546511\n",
            " 1.09861229 0.         0.40546511]\n"
          ]
        }
      ]
    },
    {
      "cell_type": "code",
      "source": [
        "tf_idf = tf*idf\n",
        "print(tf_idf)"
      ],
      "metadata": {
        "colab": {
          "base_uri": "https://localhost:8080/"
        },
        "id": "mzqP_TXqdzQC",
        "outputId": "f905258b-a139-48db-c14f-4dcdcb3c5a24"
      },
      "execution_count": 161,
      "outputs": [
        {
          "output_type": "stream",
          "name": "stdout",
          "text": [
            "[[1.09861229 0.         0.         0.         0.         0.40546511\n",
            "  0.         0.         0.40546511]\n",
            " [0.         0.81093022 1.09861229 1.09861229 0.         0.40546511\n",
            "  0.         0.         0.40546511]\n",
            " [0.         0.40546511 0.         0.         1.09861229 0.\n",
            "  1.09861229 0.         0.        ]]\n"
          ]
        }
      ]
    },
    {
      "cell_type": "markdown",
      "metadata": {
        "id": "xMcsfndWJjm_"
      },
      "source": [
        "### 5 - Comparación de documentos\n",
        "Realizar una funcion que reciba el corpus y el índice de un documento y devuelva los documentos ordenados por la similitud coseno"
      ]
    },
    {
      "cell_type": "code",
      "source": [
        "# Funcion para obtener vocabulario de un corpus\n",
        "def getVocabulary(corpus):\n",
        "  terms = []\n",
        "  for document in corpus:\n",
        "    word = str.split(document)\n",
        "    terms.extend(word) #Utilizo el método .extend() en lugar de .append() para evitar crear una lista de listas\n",
        "\n",
        "  return set(terms)"
      ],
      "metadata": {
        "id": "lFcQ18fehRX5"
      },
      "execution_count": 162,
      "outputs": []
    },
    {
      "cell_type": "code",
      "source": [
        "# Funcion para obtener lamatriz one-hot-encoding dados un corpus y su vocabulario\n",
        "def getOHE(corpus, vocabulary):\n",
        "  ohe = np.zeros((len(corpus), len(vocabulary)))\n",
        "  for i, document in enumerate(corpus):\n",
        "    for j, term in enumerate(vocabulary):\n",
        "      if term in document:\n",
        "        ohe[i, j] = 1\n",
        "  return ohe"
      ],
      "metadata": {
        "id": "nX2vmXPihLyH"
      },
      "execution_count": 163,
      "outputs": []
    },
    {
      "cell_type": "code",
      "source": [
        "# Funcion para obtener la matriz TF-IDF dados un corpus, su vocabulario, y la matriz OHE\n",
        "def getTFIDF(corpus, vocabulary, ohe):\n",
        "  lc = len(corpus)\n",
        "  sum_ohe_axis0 = np.sum(ohe, axis=0)\n",
        "  idf = np.log(lc/sum_ohe_axis0)\n",
        "\n",
        "  tf = np.zeros((len(corpus), len(vocabulary)))\n",
        "  for i, document in enumerate(corpus):\n",
        "    for j, term in enumerate(vocabulary):\n",
        "      if term in document:\n",
        "        tf[i, j] = document.count(term)\n",
        "        \n",
        "  return tf*idf"
      ],
      "metadata": {
        "id": "D1OMmZrVgU7S"
      },
      "execution_count": 164,
      "outputs": []
    },
    {
      "cell_type": "code",
      "source": [
        "# Funcion para obtener la similaridad coseno de un documento del corpus (dado por el indice idx) respecto a todos los documentos del corpus\n",
        "def getSimilarity(corpus, idx):\n",
        "  lc = len(corpus)\n",
        "  vocab = getVocabulary(corpus)\n",
        "  ohe = getOHE(corpus, vocab)\n",
        "  tf_idf = getTFIDF(corpus, vocab, ohe)\n",
        "  similarity = []\n",
        "  for i in range(lc):\n",
        "    similarity.append(cosine_similarity(tf_idf[i], tf_idf[idx]))\n",
        "\n",
        "  sim_idx_sort = np.argsort(similarity)[::-1]\n",
        "  sim_sort = np.sort(similarity)[::-1]\n",
        "  for i in range(lc):\n",
        "    print('La similaridad coseno entre el documento', sim_idx_sort[i], 'del corpus con el documento de indice', idx, 'es', sim_sort[i])\n",
        "\n",
        "  #return similarity"
      ],
      "metadata": {
        "id": "Xwv838bueQdh"
      },
      "execution_count": 165,
      "outputs": []
    },
    {
      "cell_type": "code",
      "source": [
        "check_sim_to_idx = 0\n",
        "similarity_one_vs_others = getSimilarity(corpus, check_sim_to_idx)\n",
        "print(similarity_one_vs_others)"
      ],
      "metadata": {
        "colab": {
          "base_uri": "https://localhost:8080/"
        },
        "id": "0xaKdSTPSh7A",
        "outputId": "3bb22449-26f0-47dc-9424-37b7035e9dff"
      },
      "execution_count": 166,
      "outputs": [
        {
          "output_type": "stream",
          "name": "stdout",
          "text": [
            "La similaridad coseno entre el documento 0 del corpus con el documento de indice 0 es 1.0\n",
            "La similaridad coseno entre el documento 1 del corpus con el documento de indice 0 es 0.14388551287405218\n",
            "La similaridad coseno entre el documento 2 del corpus con el documento de indice 0 es 0.0\n",
            "None\n"
          ]
        }
      ]
    },
    {
      "cell_type": "code",
      "source": [
        "check_sim_to_idx = 1\n",
        "similarity_one_vs_others = getSimilarity(corpus, check_sim_to_idx)\n",
        "print(similarity_one_vs_others)"
      ],
      "metadata": {
        "colab": {
          "base_uri": "https://localhost:8080/"
        },
        "id": "AetIshQ5X5Z8",
        "outputId": "55e7c3cb-9a29-4ca8-ecad-0e0f899214b5"
      },
      "execution_count": 167,
      "outputs": [
        {
          "output_type": "stream",
          "name": "stdout",
          "text": [
            "La similaridad coseno entre el documento 1 del corpus con el documento de indice 1 es 0.9999999999999999\n",
            "La similaridad coseno entre el documento 0 del corpus con el documento de indice 1 es 0.14388551287405218\n",
            "La similaridad coseno entre el documento 2 del corpus con el documento de indice 1 es 0.1110480720364697\n",
            "None\n"
          ]
        }
      ]
    },
    {
      "cell_type": "code",
      "source": [
        "check_sim_to_idx = 2\n",
        "similarity_one_vs_others = getSimilarity(corpus, check_sim_to_idx)\n",
        "print(similarity_one_vs_others)"
      ],
      "metadata": {
        "colab": {
          "base_uri": "https://localhost:8080/"
        },
        "id": "kKdKwzZUX6Zu",
        "outputId": "ed39c7b5-6a68-42ee-f07f-da8ba7fcbb24"
      },
      "execution_count": 168,
      "outputs": [
        {
          "output_type": "stream",
          "name": "stdout",
          "text": [
            "La similaridad coseno entre el documento 2 del corpus con el documento de indice 2 es 1.0\n",
            "La similaridad coseno entre el documento 1 del corpus con el documento de indice 2 es 0.1110480720364697\n",
            "La similaridad coseno entre el documento 0 del corpus con el documento de indice 2 es 0.0\n",
            "None\n"
          ]
        }
      ]
    },
    {
      "cell_type": "markdown",
      "source": [
        "# Prueba con documentos y corpus mas largos"
      ],
      "metadata": {
        "id": "KixjgY8IdASI"
      }
    },
    {
      "cell_type": "code",
      "source": [
        "corpus = np.array(['hoy es un dia nublado frio y esta por llover',\n",
        "                   'mañana es martes y va a llover un poco mas que hoy',\n",
        "                   'el fin de semana descanse y me fui de viaje a rosario',\n",
        "                   'estoy cursando el tercer bimestre de la especializacion en inteligencia artificial',\n",
        "                   'la materia nlp es muy interesante',\n",
        "                   'la fecha de entrega de esta primera practica es el jueves',\n",
        "                   'el lunes de la semana que viene empiezan las vacaciones de invierno',\n",
        "                   'falta mucho tiempo para las vacaciones de verano',\n",
        "                   'la distancia de rosario a santa fe es de doscientos kilometros',\n",
        "                   'en el sur hubo rafagas de viento de ochenta kilometros por hora'])"
      ],
      "metadata": {
        "id": "Lqesfr__dDGP"
      },
      "execution_count": 169,
      "outputs": []
    },
    {
      "cell_type": "code",
      "source": [
        "vocab = getVocabulary(corpus)"
      ],
      "metadata": {
        "id": "86V2EM_Xd1Xo"
      },
      "execution_count": 170,
      "outputs": []
    },
    {
      "cell_type": "code",
      "source": [
        "print(vocab)\n",
        "print(len(vocab))"
      ],
      "metadata": {
        "colab": {
          "base_uri": "https://localhost:8080/"
        },
        "id": "UeqFfcsieDoV",
        "outputId": "840c28f6-33cb-4c2c-d5da-7dcf1a0304e6"
      },
      "execution_count": 171,
      "outputs": [
        {
          "output_type": "stream",
          "name": "stdout",
          "text": [
            "{'jueves', 'empiezan', 'santa', 'sur', 'tercer', 'de', 'un', 'el', 'fecha', 'interesante', 'las', 'rosario', 'bimestre', 'semana', 'vacaciones', 'verano', 'viento', 'mañana', 'lunes', 'va', 'es', 'frio', 'llover', 'estoy', 'tiempo', 'nublado', 'fui', 'para', 'esta', 'kilometros', 'hora', 'dia', 'en', 'viene', 'hoy', 'por', 'la', 'nlp', 'artificial', 'fe', 'me', 'viaje', 'especializacion', 'materia', 'a', 'falta', 'descanse', 'distancia', 'entrega', 'mucho', 'muy', 'doscientos', 'que', 'hubo', 'martes', 'rafagas', 'fin', 'practica', 'mas', 'inteligencia', 'invierno', 'ochenta', 'y', 'cursando', 'primera', 'poco'}\n",
            "66\n"
          ]
        }
      ]
    },
    {
      "cell_type": "code",
      "source": [
        "check_sim_to_idx = 5\n",
        "similarity_one_vs_others = getSimilarity(corpus, check_sim_to_idx)\n",
        "print(similarity_one_vs_others)"
      ],
      "metadata": {
        "colab": {
          "base_uri": "https://localhost:8080/"
        },
        "id": "uV6D9NtHd54s",
        "outputId": "af496c3d-ed6a-404a-db56-efff9f1b79e5"
      },
      "execution_count": 172,
      "outputs": [
        {
          "output_type": "stream",
          "name": "stdout",
          "text": [
            "La similaridad coseno entre el documento 5 del corpus con el documento de indice 5 es 1.0\n",
            "La similaridad coseno entre el documento 8 del corpus con el documento de indice 5 es 0.14422911426770627\n",
            "La similaridad coseno entre el documento 0 del corpus con el documento de indice 5 es 0.08762254851386317\n",
            "La similaridad coseno entre el documento 9 del corpus con el documento de indice 5 es 0.0764752768299573\n",
            "La similaridad coseno entre el documento 3 del corpus con el documento de indice 5 es 0.07621674767231879\n",
            "La similaridad coseno entre el documento 2 del corpus con el documento de indice 5 es 0.05609392656916562\n",
            "La similaridad coseno entre el documento 6 del corpus con el documento de indice 5 es 0.05094093456691924\n",
            "La similaridad coseno entre el documento 7 del corpus con el documento de indice 5 es 0.012336775558736534\n",
            "La similaridad coseno entre el documento 4 del corpus con el documento de indice 5 es 0.007123449282956937\n",
            "La similaridad coseno entre el documento 1 del corpus con el documento de indice 5 es 0.0019673268411777257\n",
            "None\n"
          ]
        }
      ]
    },
    {
      "cell_type": "code",
      "source": [
        ""
      ],
      "metadata": {
        "id": "Se6n7Bp7d_NG"
      },
      "execution_count": 172,
      "outputs": []
    }
  ]
}